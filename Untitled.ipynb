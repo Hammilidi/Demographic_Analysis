{
 "cells": [
  {
   "cell_type": "code",
   "execution_count": 1,
   "id": "6cc9fec8",
   "metadata": {},
   "outputs": [],
   "source": [
    "import pandas as pd "
   ]
  },
  {
   "cell_type": "code",
   "execution_count": 2,
   "id": "bb7d4f1a",
   "metadata": {},
   "outputs": [],
   "source": [
    "data = pd.read_csv(\"adult.data.csv\")"
   ]
  },
  {
   "cell_type": "code",
   "execution_count": 3,
   "id": "cd7fea00",
   "metadata": {},
   "outputs": [
    {
     "data": {
      "text/html": [
       "<div>\n",
       "<style scoped>\n",
       "    .dataframe tbody tr th:only-of-type {\n",
       "        vertical-align: middle;\n",
       "    }\n",
       "\n",
       "    .dataframe tbody tr th {\n",
       "        vertical-align: top;\n",
       "    }\n",
       "\n",
       "    .dataframe thead th {\n",
       "        text-align: right;\n",
       "    }\n",
       "</style>\n",
       "<table border=\"1\" class=\"dataframe\">\n",
       "  <thead>\n",
       "    <tr style=\"text-align: right;\">\n",
       "      <th></th>\n",
       "      <th>age</th>\n",
       "      <th>workclass</th>\n",
       "      <th>fnlwgt</th>\n",
       "      <th>education</th>\n",
       "      <th>education-num</th>\n",
       "      <th>marital-status</th>\n",
       "      <th>occupation</th>\n",
       "      <th>relationship</th>\n",
       "      <th>race</th>\n",
       "      <th>sex</th>\n",
       "      <th>capital-gain</th>\n",
       "      <th>capital-loss</th>\n",
       "      <th>hours-per-week</th>\n",
       "      <th>native-country</th>\n",
       "      <th>salary</th>\n",
       "    </tr>\n",
       "  </thead>\n",
       "  <tbody>\n",
       "    <tr>\n",
       "      <th>0</th>\n",
       "      <td>39</td>\n",
       "      <td>State-gov</td>\n",
       "      <td>77516</td>\n",
       "      <td>Bachelors</td>\n",
       "      <td>13</td>\n",
       "      <td>Never-married</td>\n",
       "      <td>Adm-clerical</td>\n",
       "      <td>Not-in-family</td>\n",
       "      <td>White</td>\n",
       "      <td>Male</td>\n",
       "      <td>2174</td>\n",
       "      <td>0</td>\n",
       "      <td>40</td>\n",
       "      <td>United-States</td>\n",
       "      <td>&lt;=50K</td>\n",
       "    </tr>\n",
       "    <tr>\n",
       "      <th>1</th>\n",
       "      <td>50</td>\n",
       "      <td>Self-emp-not-inc</td>\n",
       "      <td>83311</td>\n",
       "      <td>Bachelors</td>\n",
       "      <td>13</td>\n",
       "      <td>Married-civ-spouse</td>\n",
       "      <td>Exec-managerial</td>\n",
       "      <td>Husband</td>\n",
       "      <td>White</td>\n",
       "      <td>Male</td>\n",
       "      <td>0</td>\n",
       "      <td>0</td>\n",
       "      <td>13</td>\n",
       "      <td>United-States</td>\n",
       "      <td>&lt;=50K</td>\n",
       "    </tr>\n",
       "    <tr>\n",
       "      <th>2</th>\n",
       "      <td>38</td>\n",
       "      <td>Private</td>\n",
       "      <td>215646</td>\n",
       "      <td>HS-grad</td>\n",
       "      <td>9</td>\n",
       "      <td>Divorced</td>\n",
       "      <td>Handlers-cleaners</td>\n",
       "      <td>Not-in-family</td>\n",
       "      <td>White</td>\n",
       "      <td>Male</td>\n",
       "      <td>0</td>\n",
       "      <td>0</td>\n",
       "      <td>40</td>\n",
       "      <td>United-States</td>\n",
       "      <td>&lt;=50K</td>\n",
       "    </tr>\n",
       "    <tr>\n",
       "      <th>3</th>\n",
       "      <td>53</td>\n",
       "      <td>Private</td>\n",
       "      <td>234721</td>\n",
       "      <td>11th</td>\n",
       "      <td>7</td>\n",
       "      <td>Married-civ-spouse</td>\n",
       "      <td>Handlers-cleaners</td>\n",
       "      <td>Husband</td>\n",
       "      <td>Black</td>\n",
       "      <td>Male</td>\n",
       "      <td>0</td>\n",
       "      <td>0</td>\n",
       "      <td>40</td>\n",
       "      <td>United-States</td>\n",
       "      <td>&lt;=50K</td>\n",
       "    </tr>\n",
       "    <tr>\n",
       "      <th>4</th>\n",
       "      <td>28</td>\n",
       "      <td>Private</td>\n",
       "      <td>338409</td>\n",
       "      <td>Bachelors</td>\n",
       "      <td>13</td>\n",
       "      <td>Married-civ-spouse</td>\n",
       "      <td>Prof-specialty</td>\n",
       "      <td>Wife</td>\n",
       "      <td>Black</td>\n",
       "      <td>Female</td>\n",
       "      <td>0</td>\n",
       "      <td>0</td>\n",
       "      <td>40</td>\n",
       "      <td>Cuba</td>\n",
       "      <td>&lt;=50K</td>\n",
       "    </tr>\n",
       "  </tbody>\n",
       "</table>\n",
       "</div>"
      ],
      "text/plain": [
       "   age         workclass  fnlwgt  education  education-num  \\\n",
       "0   39         State-gov   77516  Bachelors             13   \n",
       "1   50  Self-emp-not-inc   83311  Bachelors             13   \n",
       "2   38           Private  215646    HS-grad              9   \n",
       "3   53           Private  234721       11th              7   \n",
       "4   28           Private  338409  Bachelors             13   \n",
       "\n",
       "       marital-status         occupation   relationship   race     sex  \\\n",
       "0       Never-married       Adm-clerical  Not-in-family  White    Male   \n",
       "1  Married-civ-spouse    Exec-managerial        Husband  White    Male   \n",
       "2            Divorced  Handlers-cleaners  Not-in-family  White    Male   \n",
       "3  Married-civ-spouse  Handlers-cleaners        Husband  Black    Male   \n",
       "4  Married-civ-spouse     Prof-specialty           Wife  Black  Female   \n",
       "\n",
       "   capital-gain  capital-loss  hours-per-week native-country salary  \n",
       "0          2174             0              40  United-States  <=50K  \n",
       "1             0             0              13  United-States  <=50K  \n",
       "2             0             0              40  United-States  <=50K  \n",
       "3             0             0              40  United-States  <=50K  \n",
       "4             0             0              40           Cuba  <=50K  "
      ]
     },
     "execution_count": 3,
     "metadata": {},
     "output_type": "execute_result"
    }
   ],
   "source": [
    "data.head()"
   ]
  },
  {
   "cell_type": "markdown",
   "id": "c343f37b",
   "metadata": {},
   "source": [
    "## How many people of each race are represented in this dataset? "
   ]
  },
  {
   "cell_type": "code",
   "execution_count": 7,
   "id": "9d77a53e",
   "metadata": {},
   "outputs": [
    {
     "data": {
      "text/html": [
       "<div>\n",
       "<style scoped>\n",
       "    .dataframe tbody tr th:only-of-type {\n",
       "        vertical-align: middle;\n",
       "    }\n",
       "\n",
       "    .dataframe tbody tr th {\n",
       "        vertical-align: top;\n",
       "    }\n",
       "\n",
       "    .dataframe thead th {\n",
       "        text-align: right;\n",
       "    }\n",
       "</style>\n",
       "<table border=\"1\" class=\"dataframe\">\n",
       "  <thead>\n",
       "    <tr style=\"text-align: right;\">\n",
       "      <th></th>\n",
       "      <th>age</th>\n",
       "      <th>workclass</th>\n",
       "      <th>fnlwgt</th>\n",
       "      <th>education</th>\n",
       "      <th>education-num</th>\n",
       "      <th>marital-status</th>\n",
       "      <th>occupation</th>\n",
       "      <th>relationship</th>\n",
       "      <th>sex</th>\n",
       "      <th>capital-gain</th>\n",
       "      <th>capital-loss</th>\n",
       "      <th>hours-per-week</th>\n",
       "      <th>native-country</th>\n",
       "      <th>salary</th>\n",
       "    </tr>\n",
       "    <tr>\n",
       "      <th>race</th>\n",
       "      <th></th>\n",
       "      <th></th>\n",
       "      <th></th>\n",
       "      <th></th>\n",
       "      <th></th>\n",
       "      <th></th>\n",
       "      <th></th>\n",
       "      <th></th>\n",
       "      <th></th>\n",
       "      <th></th>\n",
       "      <th></th>\n",
       "      <th></th>\n",
       "      <th></th>\n",
       "      <th></th>\n",
       "    </tr>\n",
       "  </thead>\n",
       "  <tbody>\n",
       "    <tr>\n",
       "      <th>Amer-Indian-Eskimo</th>\n",
       "      <td>311</td>\n",
       "      <td>311</td>\n",
       "      <td>311</td>\n",
       "      <td>311</td>\n",
       "      <td>311</td>\n",
       "      <td>311</td>\n",
       "      <td>311</td>\n",
       "      <td>311</td>\n",
       "      <td>311</td>\n",
       "      <td>311</td>\n",
       "      <td>311</td>\n",
       "      <td>311</td>\n",
       "      <td>311</td>\n",
       "      <td>311</td>\n",
       "    </tr>\n",
       "    <tr>\n",
       "      <th>Asian-Pac-Islander</th>\n",
       "      <td>1039</td>\n",
       "      <td>1039</td>\n",
       "      <td>1039</td>\n",
       "      <td>1039</td>\n",
       "      <td>1039</td>\n",
       "      <td>1039</td>\n",
       "      <td>1039</td>\n",
       "      <td>1039</td>\n",
       "      <td>1039</td>\n",
       "      <td>1039</td>\n",
       "      <td>1039</td>\n",
       "      <td>1039</td>\n",
       "      <td>1039</td>\n",
       "      <td>1039</td>\n",
       "    </tr>\n",
       "    <tr>\n",
       "      <th>Black</th>\n",
       "      <td>3124</td>\n",
       "      <td>3124</td>\n",
       "      <td>3124</td>\n",
       "      <td>3124</td>\n",
       "      <td>3124</td>\n",
       "      <td>3124</td>\n",
       "      <td>3124</td>\n",
       "      <td>3124</td>\n",
       "      <td>3124</td>\n",
       "      <td>3124</td>\n",
       "      <td>3124</td>\n",
       "      <td>3124</td>\n",
       "      <td>3124</td>\n",
       "      <td>3124</td>\n",
       "    </tr>\n",
       "    <tr>\n",
       "      <th>Other</th>\n",
       "      <td>271</td>\n",
       "      <td>271</td>\n",
       "      <td>271</td>\n",
       "      <td>271</td>\n",
       "      <td>271</td>\n",
       "      <td>271</td>\n",
       "      <td>271</td>\n",
       "      <td>271</td>\n",
       "      <td>271</td>\n",
       "      <td>271</td>\n",
       "      <td>271</td>\n",
       "      <td>271</td>\n",
       "      <td>271</td>\n",
       "      <td>271</td>\n",
       "    </tr>\n",
       "    <tr>\n",
       "      <th>White</th>\n",
       "      <td>27816</td>\n",
       "      <td>27816</td>\n",
       "      <td>27816</td>\n",
       "      <td>27816</td>\n",
       "      <td>27816</td>\n",
       "      <td>27816</td>\n",
       "      <td>27816</td>\n",
       "      <td>27816</td>\n",
       "      <td>27816</td>\n",
       "      <td>27816</td>\n",
       "      <td>27816</td>\n",
       "      <td>27816</td>\n",
       "      <td>27816</td>\n",
       "      <td>27816</td>\n",
       "    </tr>\n",
       "  </tbody>\n",
       "</table>\n",
       "</div>"
      ],
      "text/plain": [
       "                      age  workclass  fnlwgt  education  education-num  \\\n",
       "race                                                                     \n",
       "Amer-Indian-Eskimo    311        311     311        311            311   \n",
       "Asian-Pac-Islander   1039       1039    1039       1039           1039   \n",
       "Black                3124       3124    3124       3124           3124   \n",
       "Other                 271        271     271        271            271   \n",
       "White               27816      27816   27816      27816          27816   \n",
       "\n",
       "                    marital-status  occupation  relationship    sex  \\\n",
       "race                                                                  \n",
       "Amer-Indian-Eskimo             311         311           311    311   \n",
       "Asian-Pac-Islander            1039        1039          1039   1039   \n",
       "Black                         3124        3124          3124   3124   \n",
       "Other                          271         271           271    271   \n",
       "White                        27816       27816         27816  27816   \n",
       "\n",
       "                    capital-gain  capital-loss  hours-per-week  \\\n",
       "race                                                             \n",
       "Amer-Indian-Eskimo           311           311             311   \n",
       "Asian-Pac-Islander          1039          1039            1039   \n",
       "Black                       3124          3124            3124   \n",
       "Other                        271           271             271   \n",
       "White                      27816         27816           27816   \n",
       "\n",
       "                    native-country  salary  \n",
       "race                                        \n",
       "Amer-Indian-Eskimo             311     311  \n",
       "Asian-Pac-Islander            1039    1039  \n",
       "Black                         3124    3124  \n",
       "Other                          271     271  \n",
       "White                        27816   27816  "
      ]
     },
     "execution_count": 7,
     "metadata": {},
     "output_type": "execute_result"
    }
   ],
   "source": [
    "race_populations = data.groupby(\"race\").count()\n",
    "race_populations"
   ]
  },
  {
   "cell_type": "markdown",
   "id": "9b592d40",
   "metadata": {},
   "source": [
    "## What is the average age of men?"
   ]
  },
  {
   "cell_type": "code",
   "execution_count": 6,
   "id": "58205d4b",
   "metadata": {},
   "outputs": [
    {
     "data": {
      "text/plain": [
       "39.43354749885268"
      ]
     },
     "execution_count": 6,
     "metadata": {},
     "output_type": "execute_result"
    }
   ],
   "source": [
    "avg_age = data.loc[data[\"sex\"] == \"Male\"][\"age\"].mean()\n",
    "avg_age"
   ]
  },
  {
   "cell_type": "markdown",
   "id": "53a0a881",
   "metadata": {},
   "source": [
    "## What is the percentage of people who have a Bachelor's degree?"
   ]
  },
  {
   "cell_type": "code",
   "execution_count": 9,
   "id": "b0417727",
   "metadata": {},
   "outputs": [
    {
     "data": {
      "text/plain": [
       "16.446055096587944"
      ]
     },
     "execution_count": 9,
     "metadata": {},
     "output_type": "execute_result"
    }
   ],
   "source": [
    "bachelor_percentage = (data.loc[data[\"education\"] == \"Bachelors\"][\"education\"].count()*100)/data.shape[0]\n",
    "bachelor_percentage"
   ]
  },
  {
   "cell_type": "markdown",
   "id": "6c25bd85",
   "metadata": {},
   "source": [
    "## What percentage of people with advanced education (Bachelors, Masters, or Doctorate) make more than 50K?"
   ]
  },
  {
   "cell_type": "code",
   "execution_count": 17,
   "id": "b9be046d",
   "metadata": {},
   "outputs": [
    {
     "data": {
      "text/plain": [
       "10.70605939621019"
      ]
     },
     "execution_count": 17,
     "metadata": {},
     "output_type": "execute_result"
    }
   ],
   "source": [
    "advanced_educ_over50K = (data.loc[((data[\"education\"] == \"Bachelors\") | (data[\"education\"] == \"Masters\") | (data[\"education\"] == \"Doctorate\")) & (data[\"salary\"] == \">50K\")].shape[0] * 100) / data.shape[0]\n",
    "advanced_educ_over50K\n"
   ]
  },
  {
   "cell_type": "markdown",
   "id": "5d937a30",
   "metadata": {},
   "source": [
    "## What percentage of people without advanced education make more than 50K?\n"
   ]
  },
  {
   "cell_type": "code",
   "execution_count": 18,
   "id": "58fc2d65",
   "metadata": {},
   "outputs": [
    {
     "data": {
      "text/plain": [
       "13.374896348392248"
      ]
     },
     "execution_count": 18,
     "metadata": {},
     "output_type": "execute_result"
    }
   ],
   "source": [
    "non_advanced_educ_over50K = (data.loc[~((data[\"education\"] == \"Bachelors\") | (data[\"education\"] == \"Masters\") | (data[\"education\"] == \"Doctorate\")) & (data[\"salary\"] == \">50K\")].shape[0] * 100) / data.shape[0]\n",
    "non_advanced_educ_over50K"
   ]
  },
  {
   "cell_type": "markdown",
   "id": "378dbce8",
   "metadata": {},
   "source": [
    "## What is the minimum number of hours a person works per week?\n"
   ]
  },
  {
   "cell_type": "code",
   "execution_count": 21,
   "id": "3bd7ba8f",
   "metadata": {},
   "outputs": [
    {
     "data": {
      "text/plain": [
       "1"
      ]
     },
     "execution_count": 21,
     "metadata": {},
     "output_type": "execute_result"
    }
   ],
   "source": [
    "min_hours_per_week = data[\"hours-per-week\"].min()\n",
    "min_hours_per_week"
   ]
  },
  {
   "cell_type": "markdown",
   "id": "e524596b",
   "metadata": {},
   "source": [
    "## What percentage of the people who work the minimum number of hours per week have a salary of more than 50K?\n"
   ]
  },
  {
   "cell_type": "code",
   "execution_count": 29,
   "id": "a8512705",
   "metadata": {},
   "outputs": [
    {
     "data": {
      "text/plain": [
       "0.6142317496391388"
      ]
     },
     "execution_count": 29,
     "metadata": {},
     "output_type": "execute_result"
    }
   ],
   "source": [
    "min_hours_per_week = data[\"hours-per-week\"].min()\n",
    "min_hours_over50K = (data.loc[(data[\"hours-per-week\"] == min_hours_per_week) & (data[\"salary\"] == \">50K\")].shape[0] * 100)*100 / data.shape[0]\n",
    "min_hours_over50K"
   ]
  },
  {
   "cell_type": "markdown",
   "id": "947ebf5f",
   "metadata": {},
   "source": [
    "## What country has the highest percentage of people that earn >50K and what is that percentage?"
   ]
  },
  {
   "cell_type": "code",
   "execution_count": 39,
   "id": "4d8aec1e",
   "metadata": {},
   "outputs": [
    {
     "data": {
      "text/plain": [
       "('United-States', 0.22023279383311323)"
      ]
     },
     "execution_count": 39,
     "metadata": {},
     "output_type": "execute_result"
    }
   ],
   "source": [
    "# Calculate the percentage of people earning >50K by native country\n",
    "percentage_by_country = (data[data[\"salary\"] == \">50K\"]\n",
    "                         .groupby(\"native-country\")[\"native-country\"]\n",
    "                         .count() / data.shape[0])\n",
    "\n",
    "# Find the country with the highest percentage\n",
    "highest_percentage_country = percentage_by_country.idxmax()\n",
    "highest_percentage = percentage_by_country.max()\n",
    "\n",
    "highest_percentage_country, highest_percentage\n"
   ]
  },
  {
   "cell_type": "markdown",
   "id": "be6a567a",
   "metadata": {},
   "source": [
    "## Identify the most popular occupation for those who earn >50K in India."
   ]
  },
  {
   "cell_type": "code",
   "execution_count": null,
   "id": "d48588fb",
   "metadata": {},
   "outputs": [],
   "source": []
  }
 ],
 "metadata": {
  "kernelspec": {
   "display_name": "“tfenv-Python3.8”",
   "language": "python",
   "name": "tfenv"
  },
  "language_info": {
   "codemirror_mode": {
    "name": "ipython",
    "version": 3
   },
   "file_extension": ".py",
   "mimetype": "text/x-python",
   "name": "python",
   "nbconvert_exporter": "python",
   "pygments_lexer": "ipython3",
   "version": "3.8.16"
  }
 },
 "nbformat": 4,
 "nbformat_minor": 5
}
